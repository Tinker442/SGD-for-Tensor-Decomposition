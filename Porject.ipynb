{
 "cells": [
  {
   "cell_type": "code",
   "execution_count": 2,
   "metadata": {},
   "outputs": [],
   "source": [
    "import numpy as np\n",
    "import matplotlib.pyplot as plt\n",
    "from scipy.stats import ortho_group\n",
    "from scipy.linalg import khatri_rao\n",
    "%matplotlib inline\n",
    "\n",
    "from pdb import set_trace"
   ]
  },
  {
   "cell_type": "markdown",
   "metadata": {},
   "source": [
    "## Helper Functions"
   ]
  },
  {
   "cell_type": "code",
   "execution_count": 447,
   "metadata": {},
   "outputs": [
    {
     "name": "stderr",
     "output_type": "stream",
     "text": [
      "C:\\Users\\thomas\\AppData\\Local\\Temp\\ipykernel_18500\\1866006931.py:24: VisibleDeprecationWarning: Creating an ndarray from ragged nested sequences (which is a list-or-tuple of lists-or-tuples-or ndarrays with different lengths or shapes) is deprecated. If you meant to do this, you must specify 'dtype=object' when creating the ndarray.\n",
      "  A = np.multiply.reduce(np.ix_(*Ui.T))\n"
     ]
    },
    {
     "data": {
      "text/plain": [
       "(array([[[ 0.79392912,  0.27375961,  0.04506597],\n",
       "         [ 0.27375961,  0.23502607, -0.2820605 ],\n",
       "         [ 0.04506597, -0.2820605 ,  0.03704744]],\n",
       " \n",
       "        [[ 0.27375961,  0.23502607, -0.2820605 ],\n",
       "         [ 0.23502607, -0.00923388,  0.56968764],\n",
       "         [-0.2820605 ,  0.56968764,  0.0793199 ]],\n",
       " \n",
       "        [[ 0.04506597, -0.2820605 ,  0.03704744],\n",
       "         [-0.2820605 ,  0.56968764,  0.0793199 ],\n",
       "         [ 0.03704744,  0.0793199 ,  0.70638551]]]),\n",
       " array([[ 0.35842654,  0.91110234, -0.20352625],\n",
       "        [-0.67615671,  0.40367686,  0.61632549],\n",
       "        [ 0.64369443, -0.08329177,  0.76073646]]))"
      ]
     },
     "execution_count": 447,
     "metadata": {},
     "output_type": "execute_result"
    }
   ],
   "source": [
    "def gen_random_T(d,n,o):\n",
    " #list of orthogonal tensors that make up T\n",
    "\n",
    "    A0 = ortho_group.rvs(n)[:,:d]\n",
    "    T,T_hat = tensorize_U(A0,d,n,o)\n",
    "    # for i in range(d):\n",
    "    #     ui = A0[:,i].reshape(-1,1)\n",
    "    #     Ui = np.tile(ui.T, (3, 1)).T\n",
    "    #     # print(Ui)\n",
    "    #     A = np.multiply.reduce(np.ix_(*Ui.T))\n",
    "    #     T_hat[i,...] = A\n",
    "    #     T = T+A\n",
    "\n",
    "    return T, A0\n",
    "\n",
    "def tensorize_U (A0,d,n,o):\n",
    "    T = np.zeros(tuple(n*np.ones(o,dtype=np.int8)))\n",
    "    T_hat = np.zeros((d,)+tuple(n*np.ones(o,dtype=np.int8)))\n",
    "\n",
    "    for i in range(d):\n",
    "        ui = A0[:,i].reshape(-1,1)\n",
    "        Ui = np.tile(ui.T, (3, 1)).T\n",
    "        # print(Ui)\n",
    "        A = np.multiply.reduce(np.ix_(*Ui.T))\n",
    "        T_hat[i,...] = A\n",
    "        T = T+A\n",
    "    return T,T_hat\n",
    "\n",
    "gen_random_T(3,3,3)"
   ]
  },
  {
   "cell_type": "code",
   "execution_count": 427,
   "metadata": {},
   "outputs": [
    {
     "name": "stdout",
     "output_type": "stream",
     "text": [
      "0.0\n"
     ]
    },
    {
     "name": "stderr",
     "output_type": "stream",
     "text": [
      "C:\\Users\\thomas\\AppData\\Local\\Temp\\ipykernel_18500\\1866006931.py:24: VisibleDeprecationWarning: Creating an ndarray from ragged nested sequences (which is a list-or-tuple of lists-or-tuples-or ndarrays with different lengths or shapes) is deprecated. If you meant to do this, you must specify 'dtype=object' when creating the ndarray.\n",
      "  A = np.multiply.reduce(np.ix_(*Ui.T))\n"
     ]
    }
   ],
   "source": [
    "def reconstruction_error(T,x,o):\n",
    "    #sum = np.zeros(tuple(n*np.ones(o,dtype=np.int8)))\n",
    "    # for i in range(d):\n",
    "    #     sum += x[i,...]\n",
    "    n = x.shape[0]\n",
    "    d = x.shape[1]\n",
    "\n",
    "    A,_ = tensorize_U(x,d,n,o)\n",
    "    # print(A)\n",
    "    error = T-A\n",
    "    return np.linalg.norm(error.flatten('F'),2)**2\n",
    "\n",
    "def normalized_reconstruction_error(T,x,o):\n",
    "    return reconstruction_error(T,x,o)/np.linalg.norm(T.flatten('F'))**2\n",
    "\n",
    "test= np.ones(tuple(n*np.ones(o,dtype=np.int8)))\n",
    "\n",
    "T,A0 = gen_random_T(3,5,3) #dno\n",
    "print(normalized_reconstruction_error(T,A0,3))\n"
   ]
  },
  {
   "attachments": {},
   "cell_type": "markdown",
   "metadata": {},
   "source": [
    "## Algorithms"
   ]
  },
  {
   "cell_type": "code",
   "execution_count": 4,
   "metadata": {},
   "outputs": [],
   "source": [
    "#optional\n",
    "\n",
    "# Implementation of Higer Order Power method for eigen tensor computation\n",
    "def PM(A0, ninner=1000, eps=1e-6):\n",
    "    '''\n",
    "    Input: \n",
    "        A0:     Tensor of interest (N by N)\n",
    "        niter: Maximum number of iterations\n",
    "        eps:   Tolerance \n",
    "    Intermediate: \n",
    "        N:     Number of columns of A\n",
    "    Output: \n",
    "        u1:  leading eigen vector (unique up to sign) \n",
    "    '''   \n",
    "    N = A0.shape[1]\n",
    "    v1 = np.ones((N,1))\n",
    "    for itr in range(ninner):\n",
    "        v_new = np.dot(A0, v1)/np.linalg.norm(np.dot(A0,v1))\n",
    "        if np.linalg.norm(v_new-v1)/np.linalg.norm(v1)<eps:\n",
    "            v1 = v_new\n",
    "            break \n",
    "        v1 = v_new\n",
    "    v1 = np.sqrt(np.linalg.norm(np.dot(A0,v1)))*v1\n",
    "    return v1"
   ]
  },
  {
   "cell_type": "code",
   "execution_count": 282,
   "metadata": {},
   "outputs": [],
   "source": [
    "# Implementation of Gradient Descent\n",
    "def GD(x, gf, fun=lambda x,itr: 0, niter=100, eps=1e-1):    \n",
    "    '''\n",
    "    Input: \n",
    "        x:     intilalization \n",
    "        gf:    gradient function takes position argument \n",
    "        eta:   step size\n",
    "        fun:   objective value takes position argument \n",
    "        niter: number of iterations \n",
    "        eps:   tolerance for termination criteria \n",
    "\n",
    "    Itermediate: \n",
    "        grad:  gradient\n",
    "\n",
    "    Output: \n",
    "        x:     final solution \n",
    "        itr:   numer of iteration \n",
    "        out:   objective values per iterations \n",
    "    '''\n",
    "    out=np.empty(niter+1)\n",
    "    d = len(x)\n",
    "    out[0] = fun(x)\n",
    "    for itr in range(niter):\n",
    "        grad = gf(x)\n",
    "        x = x - .0005*(grad)\n",
    "        # print(grad)\n",
    "        out[itr+1] = fun(x)\n",
    "        # if np.abs(out[itr+1]-out[itr])/np.abs(out[itr])<eps:\n",
    "        if np.abs(out[itr+1])<eps:\n",
    "            break\n",
    "\n",
    "    return x, itr, out[:itr+1]"
   ]
  },
  {
   "cell_type": "code",
   "execution_count": 287,
   "metadata": {},
   "outputs": [],
   "source": [
    "# Implementation of Noisy Gradient Descent\n",
    "def NGD(x, gf, fun=lambda x,itr: 0, niter=100, eps=1e-1):    \n",
    "    '''\n",
    "    Input: \n",
    "        x:     intilalization \n",
    "        gf:    gradient function takes position argument \n",
    "        eta:   step size\n",
    "        fun:   objective value takes position argument \n",
    "        niter: number of iterations \n",
    "        eps:   tolerance for termination criteria \n",
    "\n",
    "    Itermediate: \n",
    "        grad:  gradient\n",
    "\n",
    "    Output: \n",
    "        x:     final solution \n",
    "        itr:   numer of iteration \n",
    "        out:   objective values per iterations \n",
    "    '''\n",
    "    out=np.empty(niter+1)\n",
    "    d = len(x)\n",
    "    out[0] = fun(x)\n",
    "    for itr in range(niter):\n",
    "        grad = gf(x)\n",
    "\n",
    "        noise = np.random.rand(x.shape[0],x.shape[1])*2-1\n",
    "        noise = 100*noise / np.linalg.norm(noise)\n",
    "        # print(noise)\n",
    "        # print(grad)\n",
    "        x = x - .0005*(grad+noise)#/np.sqrt(itr+1)\n",
    "\n",
    "        out[itr+1] = fun(x)\n",
    "        # if np.abs(out[itr+1]-out[itr])/np.abs(out[itr])<eps:\n",
    "        if np.abs(out[itr+1])<eps:\n",
    "            break\n",
    "\n",
    "    return x, itr, out[:itr+1]"
   ]
  },
  {
   "cell_type": "code",
   "execution_count": 437,
   "metadata": {},
   "outputs": [],
   "source": [
    "# Implementation of Noisy ADMM\n",
    "def NADMM(x, gf, fun=lambda x,itr: 0, niter=100, eps=1e-6):    \n",
    "    '''\n",
    "    Input: \n",
    "        x:     intilalization \n",
    "        gf:    gradient function takes position argument \n",
    "        eta:   step size\n",
    "        fun:   objective value takes position argument \n",
    "        niter: number of iterations \n",
    "        eps:   tolerance for termination criteria \n",
    "\n",
    "    Itermediate: \n",
    "        grad:  gradient\n",
    "\n",
    "    Output: \n",
    "        x:     final solution \n",
    "        itr:   numer of iteration \n",
    "        out:   objective values per iterations \n",
    "    '''\n",
    "    out=np.empty(niter+1)\n",
    "    d = len(x)\n",
    "\n",
    "    a=x.copy()\n",
    "    b=x.copy()\n",
    "    c=x.copy()\n",
    "\n",
    "    out[0] = fun(x)\n",
    "    for itr in range(niter):\n",
    "        grada,gradb,gradc = gf(a,b,c)\n",
    "\n",
    "        noise = np.random.rand(x.shape[0],x.shape[1])\n",
    "        noise = 0.1*noise / np.linalg.norm(noise)\n",
    "\n",
    "        a = a - .0005*(grada+noise)#/np.sqrt(itr+1)\n",
    "        b = b - .0005*(gradb+noise)#/np.sqrt(itr+1)\n",
    "        c = c - .0005*(gradc+noise)#/np.sqrt(itr+1)\n",
    "\n",
    "        out[itr+1] = fun((a+b+c) /3)\n",
    "        if np.abs(out[itr+1]-out[itr])/np.abs(out[itr])<eps:\n",
    "        # if np.abs(out[itr+1])<eps:\n",
    "            x=(a+b+c) /3\n",
    "            break\n",
    "    x=(a+b+c) /3        \n",
    "    return x, itr, out[:itr+1]"
   ]
  },
  {
   "cell_type": "code",
   "execution_count": 6,
   "metadata": {},
   "outputs": [],
   "source": [
    "# Implementation of SGD with projection\n",
    "def SGD(x, sgf, bt, fun=lambda x,itr: 0, proj=lambda x: x, nepoch=100, eps=1e-5):\n",
    "    '''\n",
    "    Input: \n",
    "        x:      intilalization \n",
    "        sgf:    stochastic gradient function takes position argument \n",
    "        bt:     batch size\n",
    "        fun:    objective value takes position argument \n",
    "        nepoch: number of iterations \n",
    "        eps:    tolerance for termination criteria \n",
    "\n",
    "    Itermediate: \n",
    "        d:      length of x  \n",
    "        sgrad:  stochastic gradient\n",
    "\n",
    "    Output: \n",
    "        x:      final solution \n",
    "        epoch:  number of epoches\n",
    "        itr:    total number of iterations \n",
    "        out:    objective values per iterations \n",
    "    '''\n",
    "    itr = 0\n",
    "    d = len(x)\n",
    "    out= np.empty(nepoch+1)\n",
    "    out[0] = fun(x.reshape(d,1),0)\n",
    "    for epoch in range(nepoch):\n",
    "        for i in range(bt):\n",
    "            sgrad = sgf(x,i)\n",
    "            itr +=1\n",
    "            x = x - (sgrad)/np.sqrt(itr+1)\n",
    "            x = proj(x)\n",
    "        out[epoch+1] = fun(x.reshape(d,1),itr)\n",
    "        if np.abs(out[epoch+1]-out[epoch])/np.abs(out[epoch])<eps:\n",
    "            break\n",
    "    return x, epoch, out[:epoch+1]"
   ]
  },
  {
   "cell_type": "code",
   "execution_count": 57,
   "metadata": {},
   "outputs": [],
   "source": [
    "# Implementation of NSGD with projection\n",
    "def NSGD(x, sgf, bt, fun=lambda x,itr: 0, proj=lambda x: x, nepoch=100, eps=1e-5):\n",
    "    '''\n",
    "    Input: \n",
    "        x:      intilalization \n",
    "        sgf:    stochastic gradient function takes position argument \n",
    "        bt:     batch size\n",
    "        fun:    objective value takes position argument \n",
    "        nepoch: number of iterations \n",
    "        eps:    tolerance for termination criteria \n",
    "\n",
    "    Itermediate: \n",
    "        d:      length of x  \n",
    "        sgrad:  stochastic gradient\n",
    "\n",
    "    Output: \n",
    "        x:      final solution \n",
    "        epoch:  number of epoches\n",
    "        itr:    total number of iterations \n",
    "        out:    objective values per iterations \n",
    "    '''\n",
    "    itr = 0\n",
    "    d = len(x)\n",
    "    out= np.empty(nepoch+1)\n",
    "    out[0] = fun(x.reshape(d,1),0)\n",
    "    for epoch in range(nepoch):\n",
    "        noise = np.random.rand(d)\n",
    "        noise = noise / np.linalg.norm(noise)\n",
    "        for i in range(bt):\n",
    "            sgrad = sgf(x,i)\n",
    "            itr +=1\n",
    "            x = x - 0.5*(sgrad+noise)/np.sqrt(itr+1)\n",
    "            x=proj(x)\n",
    "        out[epoch+1] = fun(x.reshape(d,1),itr)\n",
    "        if np.abs(out[epoch+1]-out[epoch])/np.abs(out[epoch])<eps:\n",
    "            break\n",
    "    return x, epoch, out[:epoch+1]"
   ]
  },
  {
   "cell_type": "markdown",
   "metadata": {},
   "source": [
    "## Generating Data "
   ]
  },
  {
   "cell_type": "code",
   "execution_count": 38,
   "metadata": {},
   "outputs": [
    {
     "name": "stderr",
     "output_type": "stream",
     "text": [
      "C:\\Users\\thomas\\AppData\\Local\\Temp\\ipykernel_18500\\1866006931.py:24: VisibleDeprecationWarning: Creating an ndarray from ragged nested sequences (which is a list-or-tuple of lists-or-tuples-or ndarrays with different lengths or shapes) is deprecated. If you meant to do this, you must specify 'dtype=object' when creating the ndarray.\n",
      "  A = np.multiply.reduce(np.ix_(*Ui.T))\n"
     ]
    }
   ],
   "source": [
    "## Generating Data\n",
    "    \n",
    "np.random.seed(0)\n",
    "\n",
    "\n",
    "o = 3 # order of tensor\n",
    "n = 10 #dimensions of vectors, must be greater than order\n",
    "d = 3 #number of orthogonal tensors\n",
    "\n",
    "\n",
    "# A0 = ortho_group.rvs(d)[:,:o]\n",
    "# # A0 = np.array([[1,0],[1,1]])\n",
    "# A = np.multiply.reduce(np.ix_(*A0.T)) #np.einsum('i,j,k',A)\n",
    "\n",
    "\n",
    "T,U = gen_random_T(d,n,o)\n",
    "    \n",
    "\n",
    "# print(T_hat)\n",
    "# print(\"\\n\")\n",
    "# print(T)"
   ]
  },
  {
   "attachments": {},
   "cell_type": "markdown",
   "metadata": {},
   "source": [
    "## Tensor Decomp using NSGD and main algo"
   ]
  },
  {
   "cell_type": "code",
   "execution_count": 9,
   "metadata": {},
   "outputs": [
    {
     "ename": "SyntaxError",
     "evalue": "invalid syntax (1809582688.py, line 4)",
     "output_type": "error",
     "traceback": [
      "\u001b[1;36m  Cell \u001b[1;32mIn [9], line 4\u001b[1;36m\u001b[0m\n\u001b[1;33m    obj =  lambda x:         #input is a list of tensors\u001b[0m\n\u001b[1;37m                             ^\u001b[0m\n\u001b[1;31mSyntaxError\u001b[0m\u001b[1;31m:\u001b[0m invalid syntax\n"
     ]
    }
   ],
   "source": [
    "Niter = 1000\n",
    "batch_size= 100\n",
    "\n",
    "obj =  lambda x:         #input is a list of tensors\n",
    "sgf = lambda x,i: \n",
    "proj = lambda x: x/np.linalg.norm(x)\n",
    "\n",
    "a,out_nsgd = NSGD(np.zeros([n+1,]), sgf=sgf, bt=batch_size, fun=obj, niter=Niter)"
   ]
  },
  {
   "cell_type": "code",
   "execution_count": null,
   "metadata": {},
   "outputs": [
    {
     "ename": "NameError",
     "evalue": "name 'out_nsgd' is not defined",
     "output_type": "error",
     "traceback": [
      "\u001b[1;31m---------------------------------------------------------------------------\u001b[0m",
      "\u001b[1;31mNameError\u001b[0m                                 Traceback (most recent call last)",
      "\u001b[1;32mc:\\Users\\thomas\\Documents\\UMICH\\EECS559\\Project\\Porject.ipynb Cell 13\u001b[0m in \u001b[0;36m2\n\u001b[0;32m      <a href='vscode-notebook-cell:/c%3A/Users/thomas/Documents/UMICH/EECS559/Project/Porject.ipynb#X13sZmlsZQ%3D%3D?line=0'>1</a>\u001b[0m \u001b[39m# Converence to the optimal value \u001b[39;00m\n\u001b[1;32m----> <a href='vscode-notebook-cell:/c%3A/Users/thomas/Documents/UMICH/EECS559/Project/Porject.ipynb#X13sZmlsZQ%3D%3D?line=1'>2</a>\u001b[0m plt\u001b[39m.\u001b[39mplot(np\u001b[39m.\u001b[39marange(\u001b[39mlen\u001b[39m(out_nsgd)\u001b[39m-\u001b[39m\u001b[39m1\u001b[39m),np\u001b[39m.\u001b[39mlog10(np\u001b[39m.\u001b[39marray(out_nsgd[:\u001b[39m-\u001b[39m\u001b[39m1\u001b[39m]\u001b[39m-\u001b[39mout_nsgd[\u001b[39m-\u001b[39m\u001b[39m1\u001b[39m])),\u001b[39m'\u001b[39m\u001b[39mr\u001b[39m\u001b[39m'\u001b[39m)\n\u001b[0;32m      <a href='vscode-notebook-cell:/c%3A/Users/thomas/Documents/UMICH/EECS559/Project/Porject.ipynb#X13sZmlsZQ%3D%3D?line=3'>4</a>\u001b[0m plt\u001b[39m.\u001b[39mlegend((\u001b[39mr\u001b[39m\u001b[39m'\u001b[39m\u001b[39mRGD\u001b[39m\u001b[39m'\u001b[39m), loc \u001b[39m=\u001b[39m \u001b[39m'\u001b[39m\u001b[39mupper right\u001b[39m\u001b[39m'\u001b[39m)\n",
      "\u001b[1;31mNameError\u001b[0m: name 'out_nsgd' is not defined"
     ]
    }
   ],
   "source": [
    "# Converence to the optimal value \n",
    "plt.plot(np.arange(len(out_nsgd)-1),np.log10(np.array(out_nsgd[:-1]-out_nsgd[-1])),'r')\n",
    "\n",
    "plt.legend((r'RGD'), loc = 'upper right')"
   ]
  },
  {
   "attachments": {},
   "cell_type": "markdown",
   "metadata": {},
   "source": [
    "## Tensor Decomp using Reconstruction error"
   ]
  },
  {
   "cell_type": "code",
   "execution_count": 394,
   "metadata": {},
   "outputs": [],
   "source": [
    "#order must = 3\n",
    "def grad_function(T,A,B,C): #A is a matrix containing the u's as columns\n",
    "    d=A.shape[1]\n",
    "\n",
    "    had = lambda a,b: np.multiply(a.T@a,b.T@b)\n",
    "    kr = lambda a,b: khatri_rao(a,b)\n",
    "    \n",
    "    # print(np.kron(np.eye(n), np.multiply(C.T@C,B.T@B)).dot(A.flatten('F')).shape)\n",
    "\n",
    "    gA = np.kron(np.eye(n), had(C,B)).dot(A.flatten('F')) - np.kron(np.eye(n),kr(C,B)).T.dot(np.reshape(T,(n*n,n)).flatten('F')) \n",
    "    gB = np.kron(np.eye(n), had(A,C)).dot(B.flatten('F')) - np.kron(np.eye(n),kr(A,C)).T.dot(np.reshape(T,(n*n,n)).flatten('F'))\n",
    "    gC = np.kron(np.eye(n), had(B,A)).dot(C.flatten('F')) - np.kron(np.eye(n),kr(B,A)).T.dot(np.reshape(T,(n*n,n)).flatten('F'))\n",
    "    \n",
    "    gA=gA.reshape(A.shape)+ 2*A-B-C\n",
    "    gB=gB.reshape(B.shape)+ 2*B-A-C\n",
    "    gC=gC.reshape(C.shape)+ 2*C-B-A\n",
    "\n",
    "    # print(gA)\n",
    "    # print(had)\n",
    "    # print(np.kron(np.eye(n), had)@A.flatten('F').T)\n",
    "    # print(np.kron(np.eye(n),kr).T@np.reshape(T,(n*n,n)).flatten('F'))\n",
    "    # g = np.block([gA,gA,gA]).reshape(-1,1)\n",
    "    return gA,gB,gC\n",
    "\n",
    "\n",
    "# g = grad_function(T,U)\n",
    "# print(g)\n",
    "# print(U-g)\n",
    "# print(U_truth)\n"
   ]
  },
  {
   "cell_type": "code",
   "execution_count": 445,
   "metadata": {},
   "outputs": [
    {
     "name": "stderr",
     "output_type": "stream",
     "text": [
      "C:\\Users\\thomas\\AppData\\Local\\Temp\\ipykernel_18500\\4260122597.py:24: VisibleDeprecationWarning: Creating an ndarray from ragged nested sequences (which is a list-or-tuple of lists-or-tuples-or ndarrays with different lengths or shapes) is deprecated. If you meant to do this, you must specify 'dtype=object' when creating the ndarray.\n",
      "  A = np.multiply.reduce(np.ix_(*Ui.T))\n"
     ]
    }
   ],
   "source": [
    "o = 3 # order of tensor\n",
    "n = 10 #dimensions of vectors, must be greater than order\n",
    "d = 3 #number of orthogonal tensors\n",
    "\n",
    "T,U_truth = gen_random_T(d,n,o)\n",
    "U = np.random.rand(n,d)#-0.01*np.ones((n,d)) #/np.linalg.norm(np.ones((n,d)),'fro')\n",
    "U_n = 1*np.ones((n,d)) #/np.linalg.norm(np.ones((n,d)),'fro')"
   ]
  },
  {
   "cell_type": "code",
   "execution_count": 448,
   "metadata": {},
   "outputs": [
    {
     "name": "stderr",
     "output_type": "stream",
     "text": [
      "C:\\Users\\thomas\\AppData\\Local\\Temp\\ipykernel_18500\\1866006931.py:24: VisibleDeprecationWarning: Creating an ndarray from ragged nested sequences (which is a list-or-tuple of lists-or-tuples-or ndarrays with different lengths or shapes) is deprecated. If you meant to do this, you must specify 'dtype=object' when creating the ndarray.\n",
      "  A = np.multiply.reduce(np.ix_(*Ui.T))\n",
      "C:\\Users\\thomas\\AppData\\Local\\Temp\\ipykernel_18500\\1866006931.py:24: RuntimeWarning: overflow encountered in multiply\n",
      "  A = np.multiply.reduce(np.ix_(*Ui.T))\n",
      "C:\\Users\\thomas\\AppData\\Local\\Temp\\ipykernel_18500\\1866006931.py:24: RuntimeWarning: overflow encountered in reduce\n",
      "  A = np.multiply.reduce(np.ix_(*Ui.T))\n",
      "C:\\Users\\thomas\\AppData\\Local\\Temp\\ipykernel_18500\\1280325262.py:5: RuntimeWarning: overflow encountered in multiply\n",
      "  had = lambda a,b: np.multiply(a.T@a,b.T@b)\n"
     ]
    },
    {
     "name": "stdout",
     "output_type": "stream",
     "text": [
      "9999\n",
      "52.086846047061854\n",
      "194.94673880097233\n",
      "nan\n",
      "[[nan nan nan]\n",
      " [nan nan nan]\n",
      " [nan nan nan]\n",
      " [nan nan nan]\n",
      " [nan nan nan]\n",
      " [nan nan nan]\n",
      " [nan nan nan]\n",
      " [nan nan nan]\n",
      " [nan nan nan]\n",
      " [nan nan nan]]\n",
      "[[0.70362376 0.43453391 0.66459765]\n",
      " [0.51840077 0.6958461  0.19433776]\n",
      " [0.76670607 0.31941861 0.1948694 ]\n",
      " [0.69332144 0.77487972 0.63936403]\n",
      " [0.66736023 0.61183847 0.55235413]\n",
      " [0.51694762 0.2280472  0.58559963]\n",
      " [0.29110559 0.49585004 0.43686414]\n",
      " [0.47059945 0.56625264 0.45482647]\n",
      " [0.65719441 0.42996326 0.5183394 ]\n",
      " [0.45325116 0.44158731 0.52279967]]\n"
     ]
    }
   ],
   "source": [
    "Niter = 10000\n",
    "batch_size= 100\n",
    "\n",
    "obj =  lambda x: reconstruction_error(T,x,o)  #input is a list of tensors\n",
    "# sgf = lambda x,i: \n",
    "gf = lambda a,b,c: grad_function(T,a,b,c)\n",
    "proj = lambda x: x/np.linalg.norm(x.flatten('F'))\n",
    "\n",
    "U_guess,itr,out_gd = NADMM(U, gf=gf, fun=obj, niter=Niter)\n",
    "# U_guess,itr,out_gd = GD(U, gf=gf, fun=obj, niter=Niter)\n",
    "# U_n_guess,itr_n,out_ngd = NGD(U_n, gf=gf, fun=obj, niter=Niter)\n",
    "\n",
    "print(itr)\n",
    "# print(itr_n)\n",
    "\n",
    "print(reconstruction_error(T,U,o))\n",
    "print(reconstruction_error(T,U*0,o))\n",
    "print(reconstruction_error(T,U_guess,o))\n",
    "# print(reconstruction_error(T,U_n_guess,o))\n",
    "\n",
    "print(U_guess)\n",
    "# print(U_n_guess)\n",
    "print(U_truth)"
   ]
  },
  {
   "cell_type": "code",
   "execution_count": 443,
   "metadata": {},
   "outputs": [
    {
     "name": "stdout",
     "output_type": "stream",
     "text": [
      "11.888403066326516\n"
     ]
    },
    {
     "data": {
      "text/plain": [
       "<matplotlib.legend.Legend at 0x18e9bb82f50>"
      ]
     },
     "execution_count": 443,
     "metadata": {},
     "output_type": "execute_result"
    },
    {
     "data": {
      "image/png": "[encoded data removed]",
      "text/plain": [
       "<Figure size 640x480 with 1 Axes>"
      ]
     },
     "metadata": {},
     "output_type": "display_data"
    }
   ],
   "source": [
    "# Converence to the optimal value \n",
    "# print(np.multiply.reduce(np.ix_(*U_guess.T)))\n",
    "# print(T)\n",
    "# print(T)\n",
    "\n",
    "# plt.plot(np.arange(len(out_gd)-1),np.log10(np.array(out_gd[:-1]-out_gd[-1])),'r')\n",
    "# plt.plot(np.arange(len(out_ngd)-1),np.log10(np.array(out_ngd[:-1]-out_ngd[-1])),'b')\n",
    "\n",
    "plt.plot(np.arange(len(out_gd)),(np.array(out_gd[:])),'r')\n",
    "# plt.plot(np.arange(len(out_ngd)-1),np.log10(np.array(out_ngd[:-1])),'b')\n",
    "\n",
    "print(out_gd[-1])\n",
    "# print(out_ngd[-1])\n",
    "plt.legend(('GD', 'noisy GD'), loc = 'upper right')"
   ]
  }
 ],
 "metadata": {
  "kernelspec": {
   "display_name": "torch.venv",
   "language": "python",
   "name": "python3"
  },
  "language_info": {
   "codemirror_mode": {
    "name": "ipython",
    "version": 3
   },
   "file_extension": ".py",
   "mimetype": "text/x-python",
   "name": "python",
   "nbconvert_exporter": "python",
   "pygments_lexer": "ipython3",
   "version": "3.10.11"
  },
  "vscode": {
   "interpreter": {
    "hash": "5d095fe9df00c2b463f2950089eb4b1272fce5179c587043510f4e5027bfbfa8"
   }
  }
 },
 "nbformat": 4,
 "nbformat_minor": 4
}
